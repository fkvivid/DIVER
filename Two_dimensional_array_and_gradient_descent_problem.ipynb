{
  "nbformat": 4,
  "nbformat_minor": 0,
  "metadata": {
    "colab": {
      "name": "Two dimensional array and gradient descent problem.ipynb",
      "provenance": [],
      "authorship_tag": "ABX9TyNIFeA7g3VSkBSWVRr4BgWP",
      "include_colab_link": true
    },
    "kernelspec": {
      "name": "python3",
      "display_name": "Python 3"
    },
    "language_info": {
      "name": "python"
    }
  },
  "cells": [
    {
      "cell_type": "markdown",
      "metadata": {
        "id": "view-in-github",
        "colab_type": "text"
      },
      "source": [
        "<a href=\"https://colab.research.google.com/github/maralerdene/DIVER/blob/main/Two_dimensional_array_and_gradient_descent_problem.ipynb\" target=\"_parent\"><img src=\"https://colab.research.google.com/assets/colab-badge.svg\" alt=\"Open In Colab\"/></a>"
      ]
    },
    {
      "cell_type": "markdown",
      "source": [
        "[Problem 1] Linear function"
      ],
      "metadata": {
        "id": "0oHdIk7blezr"
      }
    },
    {
      "cell_type": "code",
      "execution_count": 4,
      "metadata": {
        "colab": {
          "base_uri": "https://localhost:8080/"
        },
        "id": "PGF3_hDVla9i",
        "outputId": "79ca5fc5-a4d7-4887-c5a0-67380ee742cc"
      },
      "outputs": [
        {
          "output_type": "stream",
          "name": "stdout",
          "text": [
            "[-2.40000000e+01 -2.39500000e+01 -2.39000000e+01 -2.38500000e+01\n",
            " -2.38000000e+01 -2.37500000e+01 -2.37000000e+01 -2.36500000e+01\n",
            " -2.36000000e+01 -2.35500000e+01 -2.35000000e+01 -2.34500000e+01\n",
            " -2.34000000e+01 -2.33500000e+01 -2.33000000e+01 -2.32500000e+01\n",
            " -2.32000000e+01 -2.31500000e+01 -2.31000000e+01 -2.30500000e+01\n",
            " -2.30000000e+01 -2.29500000e+01 -2.29000000e+01 -2.28500000e+01\n",
            " -2.28000000e+01 -2.27500000e+01 -2.27000000e+01 -2.26500000e+01\n",
            " -2.26000000e+01 -2.25500000e+01 -2.25000000e+01 -2.24500000e+01\n",
            " -2.24000000e+01 -2.23500000e+01 -2.23000000e+01 -2.22500000e+01\n",
            " -2.22000000e+01 -2.21500000e+01 -2.21000000e+01 -2.20500000e+01\n",
            " -2.20000000e+01 -2.19500000e+01 -2.19000000e+01 -2.18500000e+01\n",
            " -2.18000000e+01 -2.17500000e+01 -2.17000000e+01 -2.16500000e+01\n",
            " -2.16000000e+01 -2.15500000e+01 -2.15000000e+01 -2.14500000e+01\n",
            " -2.14000000e+01 -2.13500000e+01 -2.13000000e+01 -2.12500000e+01\n",
            " -2.12000000e+01 -2.11500000e+01 -2.11000000e+01 -2.10500000e+01\n",
            " -2.10000000e+01 -2.09500000e+01 -2.09000000e+01 -2.08500000e+01\n",
            " -2.08000000e+01 -2.07500000e+01 -2.07000000e+01 -2.06500000e+01\n",
            " -2.06000000e+01 -2.05500000e+01 -2.05000000e+01 -2.04500000e+01\n",
            " -2.04000000e+01 -2.03500000e+01 -2.03000000e+01 -2.02500000e+01\n",
            " -2.02000000e+01 -2.01500000e+01 -2.01000000e+01 -2.00500000e+01\n",
            " -2.00000000e+01 -1.99500000e+01 -1.99000000e+01 -1.98500000e+01\n",
            " -1.98000000e+01 -1.97500000e+01 -1.97000000e+01 -1.96500000e+01\n",
            " -1.96000000e+01 -1.95500000e+01 -1.95000000e+01 -1.94500000e+01\n",
            " -1.94000000e+01 -1.93500000e+01 -1.93000000e+01 -1.92500000e+01\n",
            " -1.92000000e+01 -1.91500000e+01 -1.91000000e+01 -1.90500000e+01\n",
            " -1.90000000e+01 -1.89500000e+01 -1.89000000e+01 -1.88500000e+01\n",
            " -1.88000000e+01 -1.87500000e+01 -1.87000000e+01 -1.86500000e+01\n",
            " -1.86000000e+01 -1.85500000e+01 -1.85000000e+01 -1.84500000e+01\n",
            " -1.84000000e+01 -1.83500000e+01 -1.83000000e+01 -1.82500000e+01\n",
            " -1.82000000e+01 -1.81500000e+01 -1.81000000e+01 -1.80500000e+01\n",
            " -1.80000000e+01 -1.79500000e+01 -1.79000000e+01 -1.78500000e+01\n",
            " -1.78000000e+01 -1.77500000e+01 -1.77000000e+01 -1.76500000e+01\n",
            " -1.76000000e+01 -1.75500000e+01 -1.75000000e+01 -1.74500000e+01\n",
            " -1.74000000e+01 -1.73500000e+01 -1.73000000e+01 -1.72500000e+01\n",
            " -1.72000000e+01 -1.71500000e+01 -1.71000000e+01 -1.70500000e+01\n",
            " -1.70000000e+01 -1.69500000e+01 -1.69000000e+01 -1.68500000e+01\n",
            " -1.68000000e+01 -1.67500000e+01 -1.67000000e+01 -1.66500000e+01\n",
            " -1.66000000e+01 -1.65500000e+01 -1.65000000e+01 -1.64500000e+01\n",
            " -1.64000000e+01 -1.63500000e+01 -1.63000000e+01 -1.62500000e+01\n",
            " -1.62000000e+01 -1.61500000e+01 -1.61000000e+01 -1.60500000e+01\n",
            " -1.60000000e+01 -1.59500000e+01 -1.59000000e+01 -1.58500000e+01\n",
            " -1.58000000e+01 -1.57500000e+01 -1.57000000e+01 -1.56500000e+01\n",
            " -1.56000000e+01 -1.55500000e+01 -1.55000000e+01 -1.54500000e+01\n",
            " -1.54000000e+01 -1.53500000e+01 -1.53000000e+01 -1.52500000e+01\n",
            " -1.52000000e+01 -1.51500000e+01 -1.51000000e+01 -1.50500000e+01\n",
            " -1.50000000e+01 -1.49500000e+01 -1.49000000e+01 -1.48500000e+01\n",
            " -1.48000000e+01 -1.47500000e+01 -1.47000000e+01 -1.46500000e+01\n",
            " -1.46000000e+01 -1.45500000e+01 -1.45000000e+01 -1.44500000e+01\n",
            " -1.44000000e+01 -1.43500000e+01 -1.43000000e+01 -1.42500000e+01\n",
            " -1.42000000e+01 -1.41500000e+01 -1.41000000e+01 -1.40500000e+01\n",
            " -1.40000000e+01 -1.39500000e+01 -1.39000000e+01 -1.38500000e+01\n",
            " -1.38000000e+01 -1.37500000e+01 -1.37000000e+01 -1.36500000e+01\n",
            " -1.36000000e+01 -1.35500000e+01 -1.35000000e+01 -1.34500000e+01\n",
            " -1.34000000e+01 -1.33500000e+01 -1.33000000e+01 -1.32500000e+01\n",
            " -1.32000000e+01 -1.31500000e+01 -1.31000000e+01 -1.30500000e+01\n",
            " -1.30000000e+01 -1.29500000e+01 -1.29000000e+01 -1.28500000e+01\n",
            " -1.28000000e+01 -1.27500000e+01 -1.27000000e+01 -1.26500000e+01\n",
            " -1.26000000e+01 -1.25500000e+01 -1.25000000e+01 -1.24500000e+01\n",
            " -1.24000000e+01 -1.23500000e+01 -1.23000000e+01 -1.22500000e+01\n",
            " -1.22000000e+01 -1.21500000e+01 -1.21000000e+01 -1.20500000e+01\n",
            " -1.20000000e+01 -1.19500000e+01 -1.19000000e+01 -1.18500000e+01\n",
            " -1.18000000e+01 -1.17500000e+01 -1.17000000e+01 -1.16500000e+01\n",
            " -1.16000000e+01 -1.15500000e+01 -1.15000000e+01 -1.14500000e+01\n",
            " -1.14000000e+01 -1.13500000e+01 -1.13000000e+01 -1.12500000e+01\n",
            " -1.12000000e+01 -1.11500000e+01 -1.11000000e+01 -1.10500000e+01\n",
            " -1.10000000e+01 -1.09500000e+01 -1.09000000e+01 -1.08500000e+01\n",
            " -1.08000000e+01 -1.07500000e+01 -1.07000000e+01 -1.06500000e+01\n",
            " -1.06000000e+01 -1.05500000e+01 -1.05000000e+01 -1.04500000e+01\n",
            " -1.04000000e+01 -1.03500000e+01 -1.03000000e+01 -1.02500000e+01\n",
            " -1.02000000e+01 -1.01500000e+01 -1.01000000e+01 -1.00500000e+01\n",
            " -1.00000000e+01 -9.95000000e+00 -9.90000000e+00 -9.85000000e+00\n",
            " -9.80000000e+00 -9.75000000e+00 -9.70000000e+00 -9.65000000e+00\n",
            " -9.60000000e+00 -9.55000000e+00 -9.50000000e+00 -9.45000000e+00\n",
            " -9.40000000e+00 -9.35000000e+00 -9.30000000e+00 -9.25000000e+00\n",
            " -9.20000000e+00 -9.15000000e+00 -9.10000000e+00 -9.05000000e+00\n",
            " -9.00000000e+00 -8.95000000e+00 -8.90000000e+00 -8.85000000e+00\n",
            " -8.80000000e+00 -8.75000000e+00 -8.70000000e+00 -8.65000000e+00\n",
            " -8.60000000e+00 -8.55000000e+00 -8.50000000e+00 -8.45000000e+00\n",
            " -8.40000000e+00 -8.35000000e+00 -8.30000000e+00 -8.25000000e+00\n",
            " -8.20000000e+00 -8.15000000e+00 -8.10000000e+00 -8.05000000e+00\n",
            " -8.00000000e+00 -7.95000000e+00 -7.90000000e+00 -7.85000000e+00\n",
            " -7.80000000e+00 -7.75000000e+00 -7.70000000e+00 -7.65000000e+00\n",
            " -7.60000000e+00 -7.55000000e+00 -7.50000000e+00 -7.45000000e+00\n",
            " -7.40000000e+00 -7.35000000e+00 -7.30000000e+00 -7.25000000e+00\n",
            " -7.20000000e+00 -7.15000000e+00 -7.10000000e+00 -7.05000000e+00\n",
            " -7.00000000e+00 -6.95000000e+00 -6.90000000e+00 -6.85000000e+00\n",
            " -6.80000000e+00 -6.75000000e+00 -6.70000000e+00 -6.65000000e+00\n",
            " -6.60000000e+00 -6.55000000e+00 -6.50000000e+00 -6.45000000e+00\n",
            " -6.40000000e+00 -6.35000000e+00 -6.30000000e+00 -6.25000000e+00\n",
            " -6.20000000e+00 -6.15000000e+00 -6.10000000e+00 -6.05000000e+00\n",
            " -6.00000000e+00 -5.95000000e+00 -5.90000000e+00 -5.85000000e+00\n",
            " -5.80000000e+00 -5.75000000e+00 -5.70000000e+00 -5.65000000e+00\n",
            " -5.60000000e+00 -5.55000000e+00 -5.50000000e+00 -5.45000000e+00\n",
            " -5.40000000e+00 -5.35000000e+00 -5.30000000e+00 -5.25000000e+00\n",
            " -5.20000000e+00 -5.15000000e+00 -5.10000000e+00 -5.05000000e+00\n",
            " -5.00000000e+00 -4.95000000e+00 -4.90000000e+00 -4.85000000e+00\n",
            " -4.80000000e+00 -4.75000000e+00 -4.70000000e+00 -4.65000000e+00\n",
            " -4.60000000e+00 -4.55000000e+00 -4.50000000e+00 -4.45000000e+00\n",
            " -4.40000000e+00 -4.35000000e+00 -4.30000000e+00 -4.25000000e+00\n",
            " -4.20000000e+00 -4.15000000e+00 -4.10000000e+00 -4.05000000e+00\n",
            " -4.00000000e+00 -3.95000000e+00 -3.90000000e+00 -3.85000000e+00\n",
            " -3.80000000e+00 -3.75000000e+00 -3.70000000e+00 -3.65000000e+00\n",
            " -3.60000000e+00 -3.55000000e+00 -3.50000000e+00 -3.45000000e+00\n",
            " -3.40000000e+00 -3.35000000e+00 -3.30000000e+00 -3.25000000e+00\n",
            " -3.20000000e+00 -3.15000000e+00 -3.10000000e+00 -3.05000000e+00\n",
            " -3.00000000e+00 -2.95000000e+00 -2.90000000e+00 -2.85000000e+00\n",
            " -2.80000000e+00 -2.75000000e+00 -2.70000000e+00 -2.65000000e+00\n",
            " -2.60000000e+00 -2.55000000e+00 -2.50000000e+00 -2.45000000e+00\n",
            " -2.40000000e+00 -2.35000000e+00 -2.30000000e+00 -2.25000000e+00\n",
            " -2.20000000e+00 -2.15000000e+00 -2.10000000e+00 -2.05000000e+00\n",
            " -2.00000000e+00 -1.95000000e+00 -1.90000000e+00 -1.85000000e+00\n",
            " -1.80000000e+00 -1.75000000e+00 -1.70000000e+00 -1.65000000e+00\n",
            " -1.60000000e+00 -1.55000000e+00 -1.50000000e+00 -1.45000000e+00\n",
            " -1.40000000e+00 -1.35000000e+00 -1.30000000e+00 -1.25000000e+00\n",
            " -1.20000000e+00 -1.15000000e+00 -1.10000000e+00 -1.05000000e+00\n",
            " -1.00000000e+00 -9.50000000e-01 -9.00000000e-01 -8.50000000e-01\n",
            " -8.00000000e-01 -7.50000000e-01 -7.00000000e-01 -6.50000000e-01\n",
            " -6.00000000e-01 -5.50000000e-01 -5.00000000e-01 -4.50000000e-01\n",
            " -4.00000000e-01 -3.50000000e-01 -3.00000000e-01 -2.50000000e-01\n",
            " -2.00000000e-01 -1.50000000e-01 -1.00000000e-01 -5.00000000e-02\n",
            "  2.20490293e-13  5.00000000e-02  1.00000000e-01  1.50000000e-01\n",
            "  2.00000000e-01  2.50000000e-01  3.00000000e-01  3.50000000e-01\n",
            "  4.00000000e-01  4.50000000e-01  5.00000000e-01  5.50000000e-01\n",
            "  6.00000000e-01  6.50000000e-01  7.00000000e-01  7.50000000e-01\n",
            "  8.00000000e-01  8.50000000e-01  9.00000000e-01  9.50000000e-01\n",
            "  1.00000000e+00  1.05000000e+00  1.10000000e+00  1.15000000e+00\n",
            "  1.20000000e+00  1.25000000e+00  1.30000000e+00  1.35000000e+00\n",
            "  1.40000000e+00  1.45000000e+00  1.50000000e+00  1.55000000e+00\n",
            "  1.60000000e+00  1.65000000e+00  1.70000000e+00  1.75000000e+00\n",
            "  1.80000000e+00  1.85000000e+00  1.90000000e+00  1.95000000e+00\n",
            "  2.00000000e+00  2.05000000e+00  2.10000000e+00  2.15000000e+00\n",
            "  2.20000000e+00  2.25000000e+00  2.30000000e+00  2.35000000e+00\n",
            "  2.40000000e+00  2.45000000e+00  2.50000000e+00  2.55000000e+00\n",
            "  2.60000000e+00  2.65000000e+00  2.70000000e+00  2.75000000e+00\n",
            "  2.80000000e+00  2.85000000e+00  2.90000000e+00  2.95000000e+00\n",
            "  3.00000000e+00  3.05000000e+00  3.10000000e+00  3.15000000e+00\n",
            "  3.20000000e+00  3.25000000e+00  3.30000000e+00  3.35000000e+00\n",
            "  3.40000000e+00  3.45000000e+00  3.50000000e+00  3.55000000e+00\n",
            "  3.60000000e+00  3.65000000e+00  3.70000000e+00  3.75000000e+00\n",
            "  3.80000000e+00  3.85000000e+00  3.90000000e+00  3.95000000e+00\n",
            "  4.00000000e+00  4.05000000e+00  4.10000000e+00  4.15000000e+00\n",
            "  4.20000000e+00  4.25000000e+00  4.30000000e+00  4.35000000e+00\n",
            "  4.40000000e+00  4.45000000e+00  4.50000000e+00  4.55000000e+00\n",
            "  4.60000000e+00  4.65000000e+00  4.70000000e+00  4.75000000e+00\n",
            "  4.80000000e+00  4.85000000e+00  4.90000000e+00  4.95000000e+00\n",
            "  5.00000000e+00  5.05000000e+00  5.10000000e+00  5.15000000e+00\n",
            "  5.20000000e+00  5.25000000e+00  5.30000000e+00  5.35000000e+00\n",
            "  5.40000000e+00  5.45000000e+00  5.50000000e+00  5.55000000e+00\n",
            "  5.60000000e+00  5.65000000e+00  5.70000000e+00  5.75000000e+00\n",
            "  5.80000000e+00  5.85000000e+00  5.90000000e+00  5.95000000e+00\n",
            "  6.00000000e+00  6.05000000e+00  6.10000000e+00  6.15000000e+00\n",
            "  6.20000000e+00  6.25000000e+00  6.30000000e+00  6.35000000e+00\n",
            "  6.40000000e+00  6.45000000e+00  6.50000000e+00  6.55000000e+00\n",
            "  6.60000000e+00  6.65000000e+00  6.70000000e+00  6.75000000e+00\n",
            "  6.80000000e+00  6.85000000e+00  6.90000000e+00  6.95000000e+00\n",
            "  7.00000000e+00  7.05000000e+00  7.10000000e+00  7.15000000e+00\n",
            "  7.20000000e+00  7.25000000e+00  7.30000000e+00  7.35000000e+00\n",
            "  7.40000000e+00  7.45000000e+00  7.50000000e+00  7.55000000e+00\n",
            "  7.60000000e+00  7.65000000e+00  7.70000000e+00  7.75000000e+00\n",
            "  7.80000000e+00  7.85000000e+00  7.90000000e+00  7.95000000e+00\n",
            "  8.00000000e+00  8.05000000e+00  8.10000000e+00  8.15000000e+00\n",
            "  8.20000000e+00  8.25000000e+00  8.30000000e+00  8.35000000e+00\n",
            "  8.40000000e+00  8.45000000e+00  8.50000000e+00  8.55000000e+00\n",
            "  8.60000000e+00  8.65000000e+00  8.70000000e+00  8.75000000e+00\n",
            "  8.80000000e+00  8.85000000e+00  8.90000000e+00  8.95000000e+00\n",
            "  9.00000000e+00  9.05000000e+00  9.10000000e+00  9.15000000e+00\n",
            "  9.20000000e+00  9.25000000e+00  9.30000000e+00  9.35000000e+00\n",
            "  9.40000000e+00  9.45000000e+00  9.50000000e+00  9.55000000e+00\n",
            "  9.60000000e+00  9.65000000e+00  9.70000000e+00  9.75000000e+00\n",
            "  9.80000000e+00  9.85000000e+00  9.90000000e+00  9.95000000e+00\n",
            "  1.00000000e+01  1.00500000e+01  1.01000000e+01  1.01500000e+01\n",
            "  1.02000000e+01  1.02500000e+01  1.03000000e+01  1.03500000e+01\n",
            "  1.04000000e+01  1.04500000e+01  1.05000000e+01  1.05500000e+01\n",
            "  1.06000000e+01  1.06500000e+01  1.07000000e+01  1.07500000e+01\n",
            "  1.08000000e+01  1.08500000e+01  1.09000000e+01  1.09500000e+01\n",
            "  1.10000000e+01  1.10500000e+01  1.11000000e+01  1.11500000e+01\n",
            "  1.12000000e+01  1.12500000e+01  1.13000000e+01  1.13500000e+01\n",
            "  1.14000000e+01  1.14500000e+01  1.15000000e+01  1.15500000e+01\n",
            "  1.16000000e+01  1.16500000e+01  1.17000000e+01  1.17500000e+01\n",
            "  1.18000000e+01  1.18500000e+01  1.19000000e+01  1.19500000e+01\n",
            "  1.20000000e+01  1.20500000e+01  1.21000000e+01  1.21500000e+01\n",
            "  1.22000000e+01  1.22500000e+01  1.23000000e+01  1.23500000e+01\n",
            "  1.24000000e+01  1.24500000e+01  1.25000000e+01  1.25500000e+01\n",
            "  1.26000000e+01  1.26500000e+01  1.27000000e+01  1.27500000e+01\n",
            "  1.28000000e+01  1.28500000e+01  1.29000000e+01  1.29500000e+01\n",
            "  1.30000000e+01  1.30500000e+01  1.31000000e+01  1.31500000e+01\n",
            "  1.32000000e+01  1.32500000e+01  1.33000000e+01  1.33500000e+01\n",
            "  1.34000000e+01  1.34500000e+01  1.35000000e+01  1.35500000e+01\n",
            "  1.36000000e+01  1.36500000e+01  1.37000000e+01  1.37500000e+01\n",
            "  1.38000000e+01  1.38500000e+01  1.39000000e+01  1.39500000e+01\n",
            "  1.40000000e+01  1.40500000e+01  1.41000000e+01  1.41500000e+01\n",
            "  1.42000000e+01  1.42500000e+01  1.43000000e+01  1.43500000e+01\n",
            "  1.44000000e+01  1.44500000e+01  1.45000000e+01  1.45500000e+01\n",
            "  1.46000000e+01  1.46500000e+01  1.47000000e+01  1.47500000e+01\n",
            "  1.48000000e+01  1.48500000e+01  1.49000000e+01  1.49500000e+01\n",
            "  1.50000000e+01  1.50500000e+01  1.51000000e+01  1.51500000e+01\n",
            "  1.52000000e+01  1.52500000e+01  1.53000000e+01  1.53500000e+01\n",
            "  1.54000000e+01  1.54500000e+01  1.55000000e+01  1.55500000e+01\n",
            "  1.56000000e+01  1.56500000e+01  1.57000000e+01  1.57500000e+01\n",
            "  1.58000000e+01  1.58500000e+01  1.59000000e+01  1.59500000e+01\n",
            "  1.60000000e+01  1.60500000e+01  1.61000000e+01  1.61500000e+01\n",
            "  1.62000000e+01  1.62500000e+01  1.63000000e+01  1.63500000e+01\n",
            "  1.64000000e+01  1.64500000e+01  1.65000000e+01  1.65500000e+01\n",
            "  1.66000000e+01  1.66500000e+01  1.67000000e+01  1.67500000e+01\n",
            "  1.68000000e+01  1.68500000e+01  1.69000000e+01  1.69500000e+01\n",
            "  1.70000000e+01  1.70500000e+01  1.71000000e+01  1.71500000e+01\n",
            "  1.72000000e+01  1.72500000e+01  1.73000000e+01  1.73500000e+01\n",
            "  1.74000000e+01  1.74500000e+01  1.75000000e+01  1.75500000e+01\n",
            "  1.76000000e+01  1.76500000e+01  1.77000000e+01  1.77500000e+01\n",
            "  1.78000000e+01  1.78500000e+01  1.79000000e+01  1.79500000e+01\n",
            "  1.80000000e+01  1.80500000e+01  1.81000000e+01  1.81500000e+01\n",
            "  1.82000000e+01  1.82500000e+01  1.83000000e+01  1.83500000e+01\n",
            "  1.84000000e+01  1.84500000e+01  1.85000000e+01  1.85500000e+01\n",
            "  1.86000000e+01  1.86500000e+01  1.87000000e+01  1.87500000e+01\n",
            "  1.88000000e+01  1.88500000e+01  1.89000000e+01  1.89500000e+01\n",
            "  1.90000000e+01  1.90500000e+01  1.91000000e+01  1.91500000e+01\n",
            "  1.92000000e+01  1.92500000e+01  1.93000000e+01  1.93500000e+01\n",
            "  1.94000000e+01  1.94500000e+01  1.95000000e+01  1.95500000e+01\n",
            "  1.96000000e+01  1.96500000e+01  1.97000000e+01  1.97500000e+01\n",
            "  1.98000000e+01  1.98500000e+01  1.99000000e+01  1.99500000e+01\n",
            "  2.00000000e+01  2.00500000e+01  2.01000000e+01  2.01500000e+01\n",
            "  2.02000000e+01  2.02500000e+01  2.03000000e+01  2.03500000e+01\n",
            "  2.04000000e+01  2.04500000e+01  2.05000000e+01  2.05500000e+01\n",
            "  2.06000000e+01  2.06500000e+01  2.07000000e+01  2.07500000e+01\n",
            "  2.08000000e+01  2.08500000e+01  2.09000000e+01  2.09500000e+01\n",
            "  2.10000000e+01  2.10500000e+01  2.11000000e+01  2.11500000e+01\n",
            "  2.12000000e+01  2.12500000e+01  2.13000000e+01  2.13500000e+01\n",
            "  2.14000000e+01  2.14500000e+01  2.15000000e+01  2.15500000e+01\n",
            "  2.16000000e+01  2.16500000e+01  2.17000000e+01  2.17500000e+01\n",
            "  2.18000000e+01  2.18500000e+01  2.19000000e+01  2.19500000e+01\n",
            "  2.20000000e+01  2.20500000e+01  2.21000000e+01  2.21500000e+01\n",
            "  2.22000000e+01  2.22500000e+01  2.23000000e+01  2.23500000e+01\n",
            "  2.24000000e+01  2.24500000e+01  2.25000000e+01  2.25500000e+01\n",
            "  2.26000000e+01  2.26500000e+01  2.27000000e+01  2.27500000e+01\n",
            "  2.28000000e+01  2.28500000e+01  2.29000000e+01  2.29500000e+01\n",
            "  2.30000000e+01  2.30500000e+01  2.31000000e+01  2.31500000e+01\n",
            "  2.32000000e+01  2.32500000e+01  2.33000000e+01  2.33500000e+01\n",
            "  2.34000000e+01  2.34500000e+01  2.35000000e+01  2.35500000e+01\n",
            "  2.36000000e+01  2.36500000e+01  2.37000000e+01  2.37500000e+01\n",
            "  2.38000000e+01  2.38500000e+01  2.39000000e+01  2.39500000e+01\n",
            "  2.40000000e+01  2.40500000e+01  2.41000000e+01  2.41500000e+01\n",
            "  2.42000000e+01  2.42500000e+01  2.43000000e+01  2.43500000e+01\n",
            "  2.44000000e+01  2.44500000e+01  2.45000000e+01  2.45500000e+01\n",
            "  2.46000000e+01  2.46500000e+01  2.47000000e+01  2.47500000e+01\n",
            "  2.48000000e+01  2.48500000e+01  2.49000000e+01  2.49500000e+01\n",
            "  2.50000000e+01  2.50500000e+01  2.51000000e+01  2.51500000e+01\n",
            "  2.52000000e+01  2.52500000e+01  2.53000000e+01  2.53500000e+01\n",
            "  2.54000000e+01  2.54500000e+01  2.55000000e+01  2.55500000e+01\n",
            "  2.56000000e+01  2.56500000e+01  2.57000000e+01  2.57500000e+01\n",
            "  2.58000000e+01  2.58500000e+01  2.59000000e+01  2.59500000e+01]\n"
          ]
        }
      ],
      "source": [
        "import numpy as np\n",
        "\n",
        "narray = np.empty([1000])\n",
        "\n",
        "val = -50\n",
        "for i in range(1000):\n",
        "\n",
        "  narray[i] = 0.5*val + 1\n",
        "  val = val + 0.1\n",
        "\n",
        "print(narray)"
      ]
    },
    {
      "cell_type": "markdown",
      "source": [
        "[Problem 2] Array combination"
      ],
      "metadata": {
        "id": "JqpeacuUa0gX"
      }
    },
    {
      "cell_type": "code",
      "source": [
        "carray = np.empty([1000])\n",
        "\n",
        "val = -50\n",
        "for i in range(1000):\n",
        "\n",
        "  carray[i] = val\n",
        "  val = val + 0.1\n",
        "\n",
        "combined = np.vstack((narray, carray)).T\n",
        "print(combined)"
      ],
      "metadata": {
        "colab": {
          "base_uri": "https://localhost:8080/"
        },
        "id": "meSx-2W8a1GW",
        "outputId": "ffafe71c-84be-470f-fdfe-4c13be2179e1"
      },
      "execution_count": 6,
      "outputs": [
        {
          "output_type": "stream",
          "name": "stdout",
          "text": [
            "[[-24.   -50.  ]\n",
            " [-23.95 -49.9 ]\n",
            " [-23.9  -49.8 ]\n",
            " ...\n",
            " [ 25.85  49.7 ]\n",
            " [ 25.9   49.8 ]\n",
            " [ 25.95  49.9 ]]\n"
          ]
        }
      ]
    },
    {
      "cell_type": "markdown",
      "source": [
        "[Problem 3] Find the gradient"
      ],
      "metadata": {
        "id": "Ez-Gl7ujbEWf"
      }
    },
    {
      "cell_type": "code",
      "source": [
        "a = narray[1:]\n",
        "b = carray[:-1]\n",
        "\n",
        "d_a = a-b\n",
        "\n",
        "print(a.shape,b.shape,d_a.shape)"
      ],
      "metadata": {
        "colab": {
          "base_uri": "https://localhost:8080/"
        },
        "id": "bZp-uGdibE3f",
        "outputId": "ffbc4827-bc0e-4289-ad8f-c7dba4c30313"
      },
      "execution_count": 17,
      "outputs": [
        {
          "output_type": "stream",
          "name": "stdout",
          "text": [
            "(999,) (999,) (999,)\n"
          ]
        }
      ]
    },
    {
      "cell_type": "markdown",
      "source": [
        "Problem 4] Draw a graph"
      ],
      "metadata": {
        "id": "bEY5zIiByL70"
      }
    },
    {
      "cell_type": "code",
      "source": [
        "# display graph\n",
        "import matplotlib.pyplot as plt\n",
        "\n",
        "plt.title('graident')\n",
        "plt.xlabel('x')\n",
        "plt.ylabel('gradient')\n",
        "plt.plot(narray[1:], d_a)\n",
        "plt.show()\n"
      ],
      "metadata": {
        "colab": {
          "base_uri": "https://localhost:8080/",
          "height": 295
        },
        "id": "3pED8qQeyMcJ",
        "outputId": "3656752e-4193-4d8b-ea87-28f6740c4ead"
      },
      "execution_count": 20,
      "outputs": [
        {
          "output_type": "display_data",
          "data": {
            "text/plain": [
              "<Figure size 432x288 with 1 Axes>"
            ],
            "image/png": "[encoded data removed]"
          },
          "metadata": {
            "needs_background": "light"
          }
        }
      ]
    },
    {
      "cell_type": "markdown",
      "source": [
        "[Problem 5] Python functionalization"
      ],
      "metadata": {
        "id": "S07JgT9c0-QU"
      }
    },
    {
      "cell_type": "code",
      "source": [
        "import math as math\n",
        "def compute_gradient(function, x_range=(-50, 50.1, 0.1)):\n",
        "    \"\"\"\n",
        "    Calculate the gradient using the amount of change.\n",
        "\n",
        "    Parameters\n",
        "    ----------------\n",
        "    function : function\n",
        "      The function you want to find, the one that returns the ndarray of y when you put the ndarray of x.\n",
        "    x_range : tuple\n",
        "      Specify the range in the same way as the argument of np.arange ().\n",
        "\n",
        "    Returns\n",
        "    ----------------\n",
        "    array_xy : ndarray, shape(n, 2)\n",
        "      A combination of x and y. n depends on x_range.\n",
        "    gradient : ndarray, shape(n-1,)\n",
        "      Function gradient. One factor is reduced to make a difference\n",
        "    \"\"\"\n",
        "    array_x = np.empty([1000])\n",
        "    counter = 0\n",
        "    for i in x_range:\n",
        "      array_x[counter]=i\n",
        "      counter = counter + 1\n",
        "     \n",
        "    \n",
        "    array_y = function1(array_x)\n",
        "    array_xy = np.vstack((array_x, array_y)).T\n",
        "\n",
        "    gradient=array_y-array_x\n",
        "    return array_xy,gradient\n",
        "def function1(array_x):\n",
        "\n",
        "    array_y = np.empty([1000])\n",
        "\n",
        "    counter = 0\n",
        "    for i in array_x:\n",
        "      array_y[counter]=(math.pow(i,2))\n",
        "      counter = counter + 1\n",
        "    # y=x2(−50≤x≤50)\n",
        "    return array_y\n",
        "\n",
        "def function2(array_x):\n",
        "\n",
        "    array_y = np.empty([1000])\n",
        "\n",
        "    counter = 0\n",
        "    for i in array_x:\n",
        "      array_y[counter]=2 * (math.pow(i,2)) + math.pow(2,x)\n",
        "      counter = counter + 1\n",
        "    # y=2x2+2x. (−50≤x≤50)\n",
        "    return array_y\n",
        "\n",
        "\n",
        "def function3(array_x):\n",
        "\n",
        "    array_y = np.empty([1000])\n",
        "\n",
        "    counter = 0\n",
        "    for i in array_x:\n",
        "      array_y[counter]= np.sin (math.pow(i,0.5))\n",
        "      counter = counter + 1\n",
        "    # y=sing(x1/2) (−50≤x≤50)\n",
        "    return array_y\n",
        "\n",
        "array_xy, gradient = compute_gradient(function1)"
      ],
      "metadata": {
        "id": "PLHTQDcU0-22"
      },
      "execution_count": 53,
      "outputs": []
    },
    {
      "cell_type": "markdown",
      "source": [
        "[Problem 6] Find the minimum value"
      ],
      "metadata": {
        "id": "zGkeQJZn9BxI"
      }
    },
    {
      "cell_type": "code",
      "source": [
        "np.argmin(array_xy,0)\n",
        "np.min(array_xy,0)"
      ],
      "metadata": {
        "colab": {
          "base_uri": "https://localhost:8080/"
        },
        "id": "IrJR-CdA9CPK",
        "outputId": "4975b318-6f7d-44f4-8078-d635e76bb1e3"
      },
      "execution_count": 59,
      "outputs": [
        {
          "output_type": "execute_result",
          "data": {
            "text/plain": [
              "array([-50.,   0.])"
            ]
          },
          "metadata": {},
          "execution_count": 59
        }
      ]
    }
  ]
}