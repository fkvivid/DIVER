{
  "nbformat": 4,
  "nbformat_minor": 0,
  "metadata": {
    "colab": {
      "name": "Shinzaemon Sorori Problem.ipynb",
      "provenance": [],
      "authorship_tag": "ABX9TyPung9UnmKEJ42Yro8Siwgo",
      "include_colab_link": true
    },
    "kernelspec": {
      "name": "python3",
      "display_name": "Python 3"
    },
    "language_info": {
      "name": "python"
    }
  },
  "cells": [
    {
      "cell_type": "markdown",
      "metadata": {
        "id": "view-in-github",
        "colab_type": "text"
      },
      "source": [
        "<a href=\"https://colab.research.google.com/github/maralerdene/DIVER/blob/main/Shinzaemon_Sorori_Problem.ipynb\" target=\"_parent\"><img src=\"https://colab.research.google.com/assets/colab-badge.svg\" alt=\"Open In Colab\"/></a>"
      ]
    },
    {
      "cell_type": "markdown",
      "source": [
        "[Problem 1] Number of rice grains on the 100th day"
      ],
      "metadata": {
        "id": "mJT-1nlHceiz"
      }
    },
    {
      "cell_type": "code",
      "execution_count": 8,
      "metadata": {
        "colab": {
          "base_uri": "https://localhost:8080/"
        },
        "id": "lh-Y6yetcQxu",
        "outputId": "e4d77ccb-fefa-4ac4-f2e0-048e5db52e8d"
      },
      "outputs": [
        {
          "output_type": "stream",
          "name": "stdout",
          "text": [
            "[1, 3, 7, 15, 31, 63]\n"
          ]
        }
      ],
      "source": [
        "def compute_sorori_shinzaemon(n_days=100):\n",
        " \n",
        "    \n",
        "\n",
        "    n = 1\n",
        "    list_n_grains = [1]\n",
        "        \n",
        "    list_total_grains = [1]\n",
        "    sum = 1\n",
        "    for i in range(n_days):\n",
        "      n = n * 2\n",
        "      sum = sum + n\n",
        "      list_n_grains.append(n)\n",
        "      list_total_grains.append(sum)\n",
        "    #print(list_total_grains)    \n",
        "\n",
        "compute_sorori_shinzaemon(5)\n"
      ]
    },
    {
      "cell_type": "markdown",
      "source": [
        "[Problem 2] Number of rice grains other than the 100th day"
      ],
      "metadata": {
        "id": "RXCbj4g1gG5A"
      }
    },
    {
      "cell_type": "code",
      "source": [
        "def compute_sorori_shinzaemon(n_days=100):\n",
        " \n",
        "    \n",
        "\n",
        "    n = 1\n",
        "    list_n_grains = [1]\n",
        "        \n",
        "    list_total_grains = [1]\n",
        "    sum = 1\n",
        "    for i in range(n_days):\n",
        "      n = n * 2\n",
        "      sum = sum + n\n",
        "      list_n_grains.append(n)\n",
        "      list_total_grains.append(sum)\n",
        "    #print(list_total_grains)    \n",
        "\n",
        "compute_sorori_shinzaemon(5)"
      ],
      "metadata": {
        "id": "rq8AHO_pgHkw"
      },
      "execution_count": null,
      "outputs": []
    },
    {
      "cell_type": "markdown",
      "source": [
        "[Problem 3] How many people can live for how many days with the rice they receive"
      ],
      "metadata": {
        "id": "s7He1XL3gVgR"
      }
    },
    {
      "cell_type": "code",
      "source": [
        "def calculate_how_many_people_can_live(total_grain_count, count_people):\n",
        " \n",
        "    return total_grain_count / (count_people * 1000)\n",
        "    #print(list_total_grains)    \n",
        "\n",
        "calculate_how_many_people_can_live(5000, 10)"
      ],
      "metadata": {
        "colab": {
          "base_uri": "https://localhost:8080/"
        },
        "id": "5zZQ1jLfgZfC",
        "outputId": "77f8f3e1-42cf-4b64-e85e-34bd05eaec4b"
      },
      "execution_count": 10,
      "outputs": [
        {
          "output_type": "execute_result",
          "data": {
            "text/plain": [
              "0.5"
            ]
          },
          "metadata": {},
          "execution_count": 10
        }
      ]
    }
  ]
}