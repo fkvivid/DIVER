{
  "nbformat": 4,
  "nbformat_minor": 0,
  "metadata": {
    "colab": {
      "name": "Implementation of matrix product.ipynb",
      "provenance": [],
      "authorship_tag": "ABX9TyN1q4zxMKmOUM/rG69GW5gb",
      "include_colab_link": true
    },
    "kernelspec": {
      "name": "python3",
      "display_name": "Python 3"
    },
    "language_info": {
      "name": "python"
    }
  },
  "cells": [
    {
      "cell_type": "markdown",
      "metadata": {
        "id": "view-in-github",
        "colab_type": "text"
      },
      "source": [
        "<a href=\"https://colab.research.google.com/github/maralerdene/DIVER/blob/main/Implementation_of_matrix_product.ipynb\" target=\"_parent\"><img src=\"https://colab.research.google.com/assets/colab-badge.svg\" alt=\"Open In Colab\"/></a>"
      ]
    },
    {
      "cell_type": "markdown",
      "source": [
        "[Problem 1] Manually calculate the matrix product"
      ],
      "metadata": {
        "id": "tw9d03P39aMm"
      }
    },
    {
      "cell_type": "code",
      "source": [
        "import numpy as np\n",
        "a_ndarray = np.array([[-1, 2, 3], [4, -5, 6], [7, 8, -9]])\n",
        "b_ndarray = np.array([[0, 2, 1], [0, 2, -8], [2, 9, -1]])\n",
        "\n",
        "print(a_ndarray @ b_ndarray)"
      ],
      "metadata": {
        "id": "vrpJ_kqUgM2Z",
        "colab": {
          "base_uri": "https://localhost:8080/"
        },
        "outputId": "4c6555c7-0765-440a-88d0-0739f0e6d151"
      },
      "execution_count": 7,
      "outputs": [
        {
          "output_type": "stream",
          "name": "stdout",
          "text": [
            "[[  6  29 -20]\n",
            " [ 12  52  38]\n",
            " [-18 -51 -48]]\n"
          ]
        }
      ]
    },
    {
      "cell_type": "markdown",
      "source": [
        "[Problem 2] Calculation by NumPy function"
      ],
      "metadata": {
        "id": "7MYvJ0u8UfmR"
      }
    },
    {
      "cell_type": "code",
      "source": [
        "#matmul\n",
        "print('matmul:\\n',np.matmul(a_ndarray,b_ndarray))\n",
        "\n",
        "#dot\n",
        "\n",
        "print('dot:\\n',np.dot(a_ndarray,b_ndarray))\n",
        "\n",
        "#@ operator\n",
        "print('@:\\n',(a_ndarray@b_ndarray))"
      ],
      "metadata": {
        "colab": {
          "base_uri": "https://localhost:8080/"
        },
        "id": "_lpvqqwZUiLM",
        "outputId": "342048c0-cee3-4526-9f16-fc30c9ee5408"
      },
      "execution_count": 8,
      "outputs": [
        {
          "output_type": "stream",
          "name": "stdout",
          "text": [
            "matmul:\n",
            " [[  6  29 -20]\n",
            " [ 12  52  38]\n",
            " [-18 -51 -48]]\n",
            "dot:\n",
            " [[  6  29 -20]\n",
            " [ 12  52  38]\n",
            " [-18 -51 -48]]\n",
            "@:\n",
            " [[  6  29 -20]\n",
            " [ 12  52  38]\n",
            " [-18 -51 -48]]\n"
          ]
        }
      ]
    },
    {
      "cell_type": "markdown",
      "source": [
        "[Problem 3] Implementation of calculation of a certain element"
      ],
      "metadata": {
        "id": "6TE0-89dV0lz"
      }
    },
    {
      "cell_type": "code",
      "source": [
        "\n",
        "result = []\n",
        "for i in range(3): #this loops through columns of the matrix\n",
        "    total = 0\n",
        "    for j in range(3): #this loops through vector coordinates & rows of matrix\n",
        "        total += a_ndarray[j] * b_ndarray[j][i]\n",
        "    result.append(total)\n",
        "print(result)\n"
      ],
      "metadata": {
        "colab": {
          "base_uri": "https://localhost:8080/"
        },
        "id": "ZK_L7IlvV1OP",
        "outputId": "77196f9e-7fda-40b4-9757-55afc433fb92"
      },
      "execution_count": 13,
      "outputs": [
        {
          "output_type": "stream",
          "name": "stdout",
          "text": [
            "[array([ 14,  16, -18]), array([ 69,  66, -63]), array([-40,  34, -36])]\n"
          ]
        }
      ]
    },
    {
      "cell_type": "markdown",
      "source": [
        "[Problem 4] Creating a function that performs matrix multiplication"
      ],
      "metadata": {
        "id": "rNm66TJ0Wyxa"
      }
    },
    {
      "cell_type": "code",
      "source": [
        "def multiplyMatices(v, G):\n",
        "    result = []\n",
        "    for i in range(len(G[0])): #this loops through columns of the matrix\n",
        "        total = 0\n",
        "        for j in range(len(v)): #this loops through vector coordinates & rows of matrix\n",
        "            total += v[j] * G[j][i]\n",
        "        result.append(total)\n",
        "    return result\n",
        "\n",
        "print('result:\\n',multiplyMatices(a_ndarray,b_ndarray))"
      ],
      "metadata": {
        "colab": {
          "base_uri": "https://localhost:8080/"
        },
        "id": "cN8EvvxBWzVE",
        "outputId": "2cf4e7eb-518b-42ee-8576-3f992342721b"
      },
      "execution_count": 14,
      "outputs": [
        {
          "output_type": "stream",
          "name": "stdout",
          "text": [
            "result:\n",
            " [array([ 14,  16, -18]), array([ 69,  66, -63]), array([-40,  34, -36])]\n"
          ]
        }
      ]
    },
    {
      "cell_type": "markdown",
      "source": [
        "[Problem 5] Judge the input whose calculation is not defined"
      ],
      "metadata": {
        "id": "6bidPhiiWzil"
      }
    },
    {
      "cell_type": "code",
      "source": [
        "def multiplyMatices(v, G):\n",
        "    result = []\n",
        "    for i in range(len(G[0])): #this loops through columns of the matrix\n",
        "        total = 0\n",
        "        for j in range(len(v)): #this loops through vector coordinates & rows of matrix\n",
        "            total += v[j] * G[j][i]\n",
        "        result.append(total)\n",
        "    return result\n",
        "\n",
        "print(a_ndarray.shape[0])\n",
        "print(b_ndarray.shape)\n",
        "\n",
        "if(a_ndarray.shape[0]!=b_ndarray.shape[1] or a_ndarray.shape[1]!=b_ndarray.shape[0]):\n",
        "  print('matrices dimenstions is not compatible')\n",
        "else:\n",
        "  print('result:\\n',multiplyMatices(a_ndarray,b_ndarray))"
      ],
      "metadata": {
        "colab": {
          "base_uri": "https://localhost:8080/"
        },
        "id": "4IA-zPTkW137",
        "outputId": "9be75ad9-ab62-45c9-9b54-3bf9c1d90a76"
      },
      "execution_count": 17,
      "outputs": [
        {
          "output_type": "stream",
          "name": "stdout",
          "text": [
            "3\n",
            "(3, 3)\n",
            "result:\n",
            " [array([ 14,  16, -18]), array([ 69,  66, -63]), array([-40,  34, -36])]\n"
          ]
        }
      ]
    },
    {
      "cell_type": "markdown",
      "source": [
        "[Problem 6] Transposition"
      ],
      "metadata": {
        "id": "HV6UIwl_W3m1"
      }
    },
    {
      "cell_type": "code",
      "source": [
        "#transpose matrices\n",
        "print('before transpose:\\n')\n",
        "print(a_ndarray)\n",
        "print('after transpose:\\n')\n",
        "np.transpose(a_ndarray) "
      ],
      "metadata": {
        "colab": {
          "base_uri": "https://localhost:8080/"
        },
        "id": "B5eRTydFW4Fx",
        "outputId": "2d5bee95-482a-4081-b2c8-f63ec9eee852"
      },
      "execution_count": 20,
      "outputs": [
        {
          "output_type": "stream",
          "name": "stdout",
          "text": [
            "before transpose:\n",
            "\n",
            "[[-1  2  3]\n",
            " [ 4 -5  6]\n",
            " [ 7  8 -9]]\n",
            "after transpose:\n",
            "\n"
          ]
        },
        {
          "output_type": "execute_result",
          "data": {
            "text/plain": [
              "array([[-1,  4,  7],\n",
              "       [ 2, -5,  8],\n",
              "       [ 3,  6, -9]])"
            ]
          },
          "metadata": {},
          "execution_count": 20
        }
      ]
    }
  ]
}