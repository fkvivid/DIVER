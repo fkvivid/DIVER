{
  "nbformat": 4,
  "nbformat_minor": 0,
  "metadata": {
    "colab": {
      "name": "Mt Fujin Paper Folding Problem.ipynb",
      "provenance": [],
      "authorship_tag": "ABX9TyMrGUO/SDUWABpaZN/ahreJ",
      "include_colab_link": true
    },
    "kernelspec": {
      "name": "python3",
      "display_name": "Python 3"
    },
    "language_info": {
      "name": "python"
    }
  },
  "cells": [
    {
      "cell_type": "markdown",
      "metadata": {
        "id": "view-in-github",
        "colab_type": "text"
      },
      "source": [
        "<a href=\"https://colab.research.google.com/github/maralerdene/DIVER/blob/main/Mt_Fujin_Paper_Folding_Problem.ipynb\" target=\"_parent\"><img src=\"https://colab.research.google.com/assets/colab-badge.svg\" alt=\"Open In Colab\"/></a>"
      ]
    },
    {
      "cell_type": "markdown",
      "source": [
        "[Problem 1] How many times to fold paper to exceed the height of Mt.Fuji?"
      ],
      "metadata": {
        "id": "FXBVmc42btfp"
      }
    },
    {
      "cell_type": "code",
      "execution_count": 8,
      "metadata": {
        "colab": {
          "base_uri": "https://localhost:8080/"
        },
        "id": "osljEm6AbjGx",
        "outputId": "87656af2-afd8-4cdd-856a-9a0de1f9e5a6"
      },
      "outputs": [
        {
          "output_type": "stream",
          "name": "stdout",
          "text": [
            "The number of folded paper: 25\n"
          ]
        }
      ],
      "source": [
        "import math\n",
        "THICKNESS = 0.00008\n",
        "FUJI_HEIGHT = 3776\n",
        "\n",
        "print(\"The number of folded paper: {:.0f}\".format(math.log2(FUJI_HEIGHT/0.00008)))"
      ]
    },
    {
      "cell_type": "markdown",
      "source": [
        "[Problem 2] Function corresponding to arbitrary thickness"
      ],
      "metadata": {
        "id": "e0ACoQv9j3JV"
      }
    },
    {
      "cell_type": "code",
      "source": [
        "CENTAURI = 4.0175*10**16\n",
        "\n",
        "print(\"The number of folded paper: {:.0f}\".format(math.log2(CENTAURI/0.00008)))"
      ],
      "metadata": {
        "colab": {
          "base_uri": "https://localhost:8080/"
        },
        "id": "sJyRcxgUj6ER",
        "outputId": "a8c3498d-7032-41fd-8923-d3c25162ac5b"
      },
      "execution_count": 9,
      "outputs": [
        {
          "output_type": "stream",
          "name": "stdout",
          "text": [
            "The number of folded paper: 69\n"
          ]
        }
      ]
    },
    {
      "cell_type": "markdown",
      "source": [
        "[Problem 3] Required paper length"
      ],
      "metadata": {
        "id": "1ddceuidwkjh"
      }
    },
    {
      "cell_type": "code",
      "source": [
        "def length(height: int ) -> float:\n",
        "  numberOfFold=math.log2(CENTAURI/0.00008)\n",
        "  t=0.00008\n",
        "  return ((3.14*t)/6)*((2**numberOfFold-4)*(2**numberOfFold)-1)\n",
        "\n",
        "print('length of paper to the Moon: '.format(length(384400)))\n",
        "print('length of paper to the Mt. Fuji'.format(length(3776)))\n",
        "print('length of paper to the closest start other than the Sun'.format(length(4.0175*10**16)))"
      ],
      "metadata": {
        "colab": {
          "base_uri": "https://localhost:8080/"
        },
        "id": "5nBCYAyvwmsL",
        "outputId": "76e21f55-de19-45f0-8f70-daf8c67a3254"
      },
      "execution_count": 13,
      "outputs": [
        {
          "output_type": "stream",
          "name": "stdout",
          "text": [
            "length of paper to the Moon: \n",
            "length of paper to the Mt. Fuji\n",
            "length of paper to the closest start other than the Sun\n"
          ]
        }
      ]
    }
  ]
}