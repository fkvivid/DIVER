{
  "nbformat": 4,
  "nbformat_minor": 0,
  "metadata": {
    "colab": {
      "name": "Chestnut manju problem.ipynb",
      "provenance": [],
      "authorship_tag": "ABX9TyMpHtt3VwSK2wjwcb0Ml6mw",
      "include_colab_link": true
    },
    "kernelspec": {
      "name": "python3",
      "display_name": "Python 3"
    },
    "language_info": {
      "name": "python"
    }
  },
  "cells": [
    {
      "cell_type": "markdown",
      "metadata": {
        "id": "view-in-github",
        "colab_type": "text"
      },
      "source": [
        "<a href=\"https://colab.research.google.com/github/maralerdene/DIVER/blob/main/Chestnut_manju_problem.ipynb\" target=\"_parent\"><img src=\"https://colab.research.google.com/assets/colab-badge.svg\" alt=\"Open In Colab\"/></a>"
      ]
    },
    {
      "cell_type": "markdown",
      "source": [
        "[Problem] The day when chestnut buns cover the solar system"
      ],
      "metadata": {
        "id": "HDh8cV2dzHto"
      }
    },
    {
      "cell_type": "code",
      "source": [
        "import math;\n",
        "kuriManju = (4/3*3.14*(5**3))/100/1000 # volume of kuri manju cm to m and m to km\n",
        "solarSystem = 1409272569059860000 # km3\n",
        "minutes=[0]\n",
        "volume=[kuriManju]\n",
        "minute=0\n",
        "\n",
        "# find n\n",
        "n = math.log2(solarSystem/kuriManju)\n",
        "\n",
        "#find minute \n",
        "print(n*5)\n",
        "\n",
        "while kuriManju<solarSystem:\n",
        "  kuriManju*=2\n",
        "  minute+=5\n",
        "  minutes.append(minute)\n",
        "  volume.append(kuriManju)\n",
        "\n",
        "# display graph\n",
        "import matplotlib.pyplot as plt\n",
        "\n",
        "plt.title('size per minutes of Kuri Manju')\n",
        "plt.xlabel('minutes')\n",
        "plt.ylabel('sizes')\n",
        "plt.plot(minutes, volume)\n",
        "plt.show()\n",
        "\n",
        "  "
      ],
      "metadata": {
        "id": "PHSDJsVJyI3X",
        "colab": {
          "base_uri": "https://localhost:8080/",
          "height": 312
        },
        "outputId": "9a81a164-f41d-4644-c621-72520b3a9c0b"
      },
      "execution_count": 5,
      "outputs": [
        {
          "output_type": "stream",
          "name": "stdout",
          "text": [
            "339.3385525566297\n"
          ]
        },
        {
          "output_type": "display_data",
          "data": {
            "text/plain": [
              "<Figure size 432x288 with 1 Axes>"
            ],
            "image/png": "[encoded data removed]"
          },
          "metadata": {
            "needs_background": "light"
          }
        }
      ]
    }
  ]
}